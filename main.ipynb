{
 "cells": [
  {
   "cell_type": "code",
   "execution_count": 12,
   "metadata": {},
   "outputs": [],
   "source": [
    "import pandas as pd\n",
    "import numpy as np\n",
    "import matplotlib.pyplot as plt"
   ]
  },
  {
   "cell_type": "code",
   "execution_count": 13,
   "metadata": {
    "scrolled": true
   },
   "outputs": [
    {
     "name": "stdout",
     "output_type": "stream",
     "text": [
      "     id condition  m1  m2  m3  m4  m5  m6\n",
      "0   101  resident   3   3   3   3   3   3\n",
      "1   102  resident   3   3   3   3   3   3\n",
      "2   103  resident   3   3   3   3   2   2\n",
      "3   104  resident   3   3   3   3   2   1\n",
      "4   105  resident   3   3   3   2   2   1\n",
      "..  ...       ...  ..  ..  ..  ..  ..  ..\n",
      "59  228   control   2   1   1   1   1   1\n",
      "60  229   control   1   1   1   1   1   1\n",
      "61  230   control   1   1   1   1   1   1\n",
      "62  231   control   1   1   1   1   1   1\n",
      "63  232   control   1   1   1   1   1   1\n",
      "\n",
      "[64 rows x 8 columns]\n"
     ]
    }
   ],
   "source": [
    "df = pd.read_csv('data/crowley-1996.csv')\n",
    "print(df)"
   ]
  },
  {
   "cell_type": "code",
   "execution_count": 14,
   "metadata": {},
   "outputs": [
    {
     "data": {
      "text/plain": [
       "0     3\n",
       "1     3\n",
       "2     3\n",
       "3     3\n",
       "4     3\n",
       "     ..\n",
       "59    2\n",
       "60    1\n",
       "61    1\n",
       "62    1\n",
       "63    1\n",
       "Name: m1, Length: 64, dtype: int64"
      ]
     },
     "execution_count": 14,
     "metadata": {},
     "output_type": "execute_result"
    }
   ],
   "source": [
    "df['m1']"
   ]
  },
  {
   "cell_type": "markdown",
   "metadata": {},
   "source": [
    "## Experimental design\n",
    "\n",
    "Independant variables / factors:\n",
    "* month {1, 2, ... ,6}\n",
    "* dog status {'resident', 'control'} (control means the dog is only visiting)\n",
    "Dependant variable (i.e. what is measured):\n",
    "* mood {1, 2, 3}"
   ]
  },
  {
   "cell_type": "markdown",
   "metadata": {},
   "source": [
    "## Analysis"
   ]
  },
  {
   "cell_type": "markdown",
   "metadata": {},
   "source": [
    "### Reproduction figure 2"
   ]
  },
  {
   "cell_type": "code",
   "execution_count": 15,
   "metadata": {},
   "outputs": [
    {
     "data": {
      "image/png": "[encoded data removed]",
      "text/plain": [
       "<Figure size 432x288 with 1 Axes>"
      ]
     },
     "metadata": {
      "needs_background": "light"
     },
     "output_type": "display_data"
    }
   ],
   "source": [
    "# From pandas documentation\n",
    "speed = [0.1, 17.5, 40, 48, 52, 69, 88]\n",
    "lifespan = [2, 8, 70, 1.5, 25, 12, 28]\n",
    "index = ['snail', 'pig', 'elephant',\n",
    "         'rabbit', 'giraffe', 'coyote', 'horse']\n",
    "df_demo = pd.DataFrame({'speed': speed,\n",
    "                        'lifespan': lifespan}, index=index)\n",
    "ax = df_demo.plot.bar(rot=0)"
   ]
  },
  {
   "cell_type": "code",
   "execution_count": 16,
   "metadata": {},
   "outputs": [
    {
     "data": {
      "image/png": "[encoded data removed]",
      "text/plain": [
       "<Figure size 432x288 with 1 Axes>"
      ]
     },
     "metadata": {
      "needs_background": "light"
     },
     "output_type": "display_data"
    },
    {
     "data": {
      "image/png": "[encoded data removed]",
      "text/plain": [
       "<Figure size 432x288 with 1 Axes>"
      ]
     },
     "metadata": {
      "needs_background": "light"
     },
     "output_type": "display_data"
    }
   ],
   "source": [
    "# Number of people 'low' for the month 1, month 2, etc. for visiting\n",
    "\n",
    "dog_status = ['control', 'resident']\n",
    "\n",
    "moods = {'low': 1, 'moderate': 2, 'high': 3}\n",
    "n_months = 6\n",
    "\n",
    "index = list(range(1, n_months+1))\n",
    "\n",
    "#low = [] \n",
    "#moderate = []\n",
    "#high = []\n",
    "\n",
    "for ds in dog_status:\n",
    "\n",
    "    data = {}\n",
    "    for mood_label in moods.keys():\n",
    "        data[mood_label] = []\n",
    "\n",
    "    is_ds = df['condition'] == ds\n",
    "    \n",
    "    # sum_m1 = sum(df[is_low&is_control]['m1'])\n",
    "    # sum_m2 = sum(df[is_low&is_control]['m2'])\n",
    "    # low.append(sum_m1)\n",
    "    # low.append(sum_m2)\n",
    "\n",
    "    for i in range(n_months):\n",
    "        key_month = 'm' + str(i+1)\n",
    "\n",
    "        # is_low = df[key_month] == 1\n",
    "        # sum_low = sum(df[is_low&is_control][key_month])\n",
    "        # low.append(sum_low)\n",
    "\n",
    "        for (mood_label, mood_value) in moods.items():\n",
    "\n",
    "            is_mood = df[key_month] == mood_value\n",
    "            count_mood = len(df[is_mood & is_ds][key_month])\n",
    "\n",
    "            data[mood_label].append(count_mood)\n",
    "\n",
    "            #if mood == 1:\n",
    "            #    low.append(sum_actual_mood)\n",
    "            #elif mood == 2:\n",
    "            #    moderate.append(sum_actual_mood)\n",
    "            #else:\n",
    "            #    high.append\n",
    "\n",
    "    if ds == 'resident':\n",
    "        condition_label = ds\n",
    "    else:\n",
    "        condition_label = 'visiting'\n",
    "    \n",
    "    title = f'Tension x {condition_label} dog'\n",
    "    \n",
    "    df_fig = pd.DataFrame(data, index=index)\n",
    "    ax = df_fig.plot.bar(rot=0)\n",
    "    ax.set_xlabel('month')\n",
    "    ax.set_ylabel('frequency')\n",
    "    ax.set_title(title)\n",
    "    plt.show()"
   ]
  },
  {
   "cell_type": "code",
   "execution_count": null,
   "metadata": {},
   "outputs": [],
   "source": []
  },
  {
   "cell_type": "code",
   "execution_count": null,
   "metadata": {},
   "outputs": [],
   "source": []
  },
  {
   "cell_type": "code",
   "execution_count": null,
   "metadata": {},
   "outputs": [],
   "source": []
  },
  {
   "cell_type": "code",
   "execution_count": null,
   "metadata": {},
   "outputs": [],
   "source": []
  },
  {
   "cell_type": "code",
   "execution_count": 17,
   "metadata": {},
   "outputs": [
    {
     "data": {
      "image/png": "[encoded data removed]",
      "text/plain": [
       "<Figure size 432x288 with 1 Axes>"
      ]
     },
     "metadata": {
      "needs_background": "light"
     },
     "output_type": "display_data"
    },
    {
     "data": {
      "image/png": "[encoded data removed]",
      "text/plain": [
       "<Figure size 432x288 with 1 Axes>"
      ]
     },
     "metadata": {
      "needs_background": "light"
     },
     "output_type": "display_data"
    }
   ],
   "source": [
    "import numpy as np\n",
    "import matplotlib.pyplot as plt\n",
    "import pandas as pd\n",
    "import os\n",
    "\n",
    "DATA_FOLDER = 'data'\n",
    "FIG_FOLDER = 'fig'\n",
    "\n",
    "os.makedirs(FIG_FOLDER, exist_ok=True)\n",
    "\n",
    "data_file = os.path.join(DATA_FOLDER, 'crowley-1996.csv')\n",
    "df = pd.read_csv(data_file)\n",
    "\n",
    "# Number of people 'low' for the month 1, month 2, etc. for visiting\n",
    "\n",
    "dog_status = ['control', 'resident']\n",
    "\n",
    "moods = {'low': 1, 'moderate': 2, 'high': 3}\n",
    "n_months = 6\n",
    "\n",
    "index = list(range(1, n_months + 1))\n",
    "\n",
    "# low = []\n",
    "# moderate = []\n",
    "# high = []\n",
    "\n",
    "for ds in dog_status:\n",
    "\n",
    "    data = {}\n",
    "    labels = ['low', 'moderate', 'high', 'mean']\n",
    "    for label in labels:\n",
    "        data[label] = []\n",
    "\n",
    "    # data = {'low': [], 'moderate': [], 'high': [], 'mean':[]}\n",
    "\n",
    "    is_ds = df['condition'] == ds\n",
    "\n",
    "    # sum_m1 = sum(df[is_low&is_control]['m1'])\n",
    "    # sum_m2 = sum(df[is_low&is_control]['m2'])\n",
    "    # low.append(sum_m1)\n",
    "    # low.append(sum_m2)\n",
    "\n",
    "    for i in range(n_months):\n",
    "        key_month = 'm' + str(i + 1)\n",
    "\n",
    "        # is_low = df[key_month] == 1\n",
    "        # sum_low = sum(df[is_low&is_control][key_month])\n",
    "        # low.append(sum_low)\n",
    "\n",
    "        for (mood_label, mood_value) in moods.items():\n",
    "\n",
    "            is_mood = df[key_month] == mood_value\n",
    "            count_mood = len(df[is_mood & is_ds][key_month])\n",
    "\n",
    "            data[mood_label].append(count_mood)\n",
    "\n",
    "        mean_mood = np.mean(df[is_ds][key_month])\n",
    "\n",
    "        data['mean'].append(mean_mood)\n",
    "\n",
    "    if ds == 'resident':\n",
    "        condition_label = ds\n",
    "    else:\n",
    "        condition_label = 'visiting'\n",
    "\n",
    "    title = f'Tension x {condition_label} dog'\n",
    "\n",
    "    df_fig = pd.DataFrame(data, index=index)\n",
    "    ax = df_fig.plot.bar(rot=0)\n",
    "    ax.set_xlabel('month')\n",
    "    ax.set_ylabel('frequency')\n",
    "    ax.set_title(title)\n",
    "\n",
    "    fig_name = f'{condition_label}.pdf'\n",
    "    fig_file = os.path.join(FIG_FOLDER, fig_name)\n",
    "    plt.savefig(fig_file)\n"
   ]
  },
  {
   "cell_type": "code",
   "execution_count": null,
   "metadata": {},
   "outputs": [],
   "source": []
  },
  {
   "cell_type": "code",
   "execution_count": null,
   "metadata": {},
   "outputs": [],
   "source": []
  },
  {
   "cell_type": "code",
   "execution_count": null,
   "metadata": {},
   "outputs": [],
   "source": []
  },
  {
   "cell_type": "code",
   "execution_count": null,
   "metadata": {},
   "outputs": [],
   "source": []
  },
  {
   "cell_type": "code",
   "execution_count": 25,
   "metadata": {},
   "outputs": [
    {
     "data": {
      "image/png": "[encoded data removed]",
      "text/plain": [
       "<Figure size 432x288 with 1 Axes>"
      ]
     },
     "metadata": {
      "needs_background": "light"
     },
     "output_type": "display_data"
    },
    {
     "data": {
      "image/png": "[encoded data removed]",
      "text/plain": [
       "<Figure size 432x288 with 1 Axes>"
      ]
     },
     "metadata": {
      "needs_background": "light"
     },
     "output_type": "display_data"
    }
   ],
   "source": [
    "import numpy as np\n",
    "import matplotlib.pyplot as plt\n",
    "import pandas as pd\n",
    "import os\n",
    "\n",
    "DATA_FOLDER = 'data'\n",
    "FIG_FOLDER = 'fig'\n",
    "\n",
    "os.makedirs(FIG_FOLDER, exist_ok=True)\n",
    "\n",
    "data_file = os.path.join(DATA_FOLDER, 'crowley-1996.csv')\n",
    "df = pd.read_csv(data_file)\n",
    "\n",
    "# Number of people 'low' for the month 1, month 2, etc. for visiting\n",
    "\n",
    "dog_status = ['control', 'resident']\n",
    "\n",
    "moods = {'low': 1, 'moderate': 2, 'high': 3}\n",
    "n_months = 6\n",
    "\n",
    "index = list(range(1, n_months + 1))\n",
    "\n",
    "# low = []\n",
    "# moderate = []\n",
    "# high = []\n",
    "\n",
    "for ds in dog_status:\n",
    "    \n",
    "    yerr=[]\n",
    "\n",
    "    data = {}\n",
    "    labels = ['mood']#['low', 'moderate', 'high', 'mean']\n",
    "    for label in labels:\n",
    "        data[label] = []\n",
    "\n",
    "    # data = {'low': [], 'moderate': [], 'high': [], 'mean':[]}\n",
    "\n",
    "    is_ds = df['condition'] == ds\n",
    "\n",
    "    for i in range(n_months):\n",
    "        key_month = 'm' + str(i + 1)\n",
    "\n",
    "       # for (mood_label, mood_value) in moods.items():\n",
    "\n",
    "       #     is_mood = df[key_month] == mood_value\n",
    "       #     count_mood = len(df[is_mood & is_ds][key_month])\n",
    "\n",
    "       #     data[mood_label].append(count_mood)\n",
    "        x = df[is_ds][key_month]\n",
    "        \n",
    "        mean_mood = np.mean(x)\n",
    "        std_mood = np.std(x)\n",
    "        \n",
    "        yerr.append(std_mood)\n",
    "                  \n",
    "        # np.mean(df[is_ds][key_month])  \n",
    "\n",
    "        data['mood'].append(mean_mood)\n",
    "\n",
    "    if ds == 'resident':\n",
    "        condition_label = ds\n",
    "    else:\n",
    "        condition_label = 'visiting'\n",
    "\n",
    "    title = f'Tension x {condition_label} dog'\n",
    "\n",
    "    df_fig = pd.DataFrame(data, index=index)\n",
    "    ax = df_fig.plot.bar(rot=0, yerr=yerr)\n",
    "    ax.set_xlabel('month')\n",
    "    ax.set_ylabel('frequency')\n",
    "    ax.set_title(title)\n",
    "\n",
    "    fig_name = f'{condition_label}.pdf'\n",
    "    fig_file = os.path.join(FIG_FOLDER, fig_name)\n",
    "    plt.savefig(fig_file)\n"
   ]
  },
  {
   "cell_type": "code",
   "execution_count": 29,
   "metadata": {},
   "outputs": [
    {
     "data": {
      "image/png": "[encoded data removed]",
      "text/plain": [
       "<Figure size 432x288 with 1 Axes>"
      ]
     },
     "metadata": {
      "needs_background": "light"
     },
     "output_type": "display_data"
    }
   ],
   "source": [
    "import numpy as np\n",
    "import matplotlib.pyplot as plt\n",
    "import pandas as pd\n",
    "import os\n",
    "import scipy.stats\n",
    "\n",
    "DATA_FOLDER = 'data'\n",
    "FIG_FOLDER = 'fig'\n",
    "\n",
    "os.makedirs(FIG_FOLDER, exist_ok=True)\n",
    "\n",
    "data_file = os.path.join(DATA_FOLDER, 'crowley-1996.csv')\n",
    "df = pd.read_csv(data_file)\n",
    "\n",
    "dog_status = ['control', 'resident']\n",
    "n_months = 6\n",
    "\n",
    "index = list(range(1, n_months + 1))\n",
    "\n",
    "data = {}\n",
    "yerr = {}\n",
    "\n",
    "for label in dog_status:\n",
    "    data[label] = []\n",
    "    yerr[label] = []\n",
    "\n",
    "for ds in dog_status:\n",
    "    \n",
    "    is_ds = df['condition'] == ds\n",
    "\n",
    "    for i in range(n_months):\n",
    "        key_month = 'm' + str(i + 1)\n",
    "\n",
    "        x = df[is_ds][key_month]\n",
    "\n",
    "        mean_mood = np.mean(x)\n",
    "        std_mood =  scipy.stats.sem(x) #np.std(x)\n",
    "\n",
    "        yerr[ds].append(std_mood)\n",
    "        data[ds].append(mean_mood)\n",
    "\n",
    "title = f'How a dog can be beneficial?'\n",
    "\n",
    "df_fig = pd.DataFrame(data, index=index)\n",
    "ax = df_fig.plot.bar(rot=0, yerr=yerr)\n",
    "ax.set_xlabel('month')\n",
    "ax.set_ylabel('frequency')\n",
    "ax.set_title(title)\n",
    "\n",
    "fig_name = f'{condition_label}.pdf'\n",
    "fig_file = os.path.join(FIG_FOLDER, fig_name)\n",
    "plt.savefig(fig_file)\n"
   ]
  },
  {
   "cell_type": "code",
   "execution_count": null,
   "metadata": {},
   "outputs": [],
   "source": []
  },
  {
   "cell_type": "code",
   "execution_count": null,
   "metadata": {},
   "outputs": [],
   "source": []
  }
 ],
 "metadata": {
  "kernelspec": {
   "display_name": "Python 3",
   "language": "python",
   "name": "python3"
  },
  "language_info": {
   "codemirror_mode": {
    "name": "ipython",
    "version": 3
   },
   "file_extension": ".py",
   "mimetype": "text/x-python",
   "name": "python",
   "nbconvert_exporter": "python",
   "pygments_lexer": "ipython3",
   "version": "3.7.7"
  }
 },
 "nbformat": 4,
 "nbformat_minor": 4
}
